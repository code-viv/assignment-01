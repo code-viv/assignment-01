{
 "cells": [
  {
   "cell_type": "markdown",
   "id": "e21de942",
   "metadata": {},
   "source": [
    "Q.1. What are keywords in python? Using the keyword library, print all the python keywords."
   ]
  },
  {
   "cell_type": "markdown",
   "id": "c69a2f17",
   "metadata": {},
   "source": [
    "Python keywords are special reserved words that have specific meanings and purposes and can't be used for anything but those specific purposes."
   ]
  },
  {
   "cell_type": "code",
   "execution_count": 1,
   "id": "af623106",
   "metadata": {},
   "outputs": [
    {
     "name": "stdout",
     "output_type": "stream",
     "text": [
      "Python keywords are...\n",
      "['False', 'None', 'True', 'and', 'as', 'assert', 'async', 'await', 'break', 'class', 'continue', 'def', 'del', 'elif', 'else', 'except', 'finally', 'for', 'from', 'global', 'if', 'import', 'in', 'is', 'lambda', 'nonlocal', 'not', 'or', 'pass', 'raise', 'return', 'try', 'while', 'with', 'yield']\n"
     ]
    }
   ],
   "source": [
    "# Python program to print the list of all keywords\n",
    "\n",
    "# importing the module\n",
    "import keyword\n",
    "\n",
    "# printing the keywords\n",
    "print(\"Python keywords are...\")\n",
    "print(keyword.kwlist)"
   ]
  },
  {
   "cell_type": "markdown",
   "id": "a76ce20d",
   "metadata": {},
   "source": [
    "Q.2. What are the rules to create variables in python?"
   ]
  },
  {
   "cell_type": "markdown",
   "id": "d49d4f27",
   "metadata": {},
   "source": [
    "Rules for Python variables:\n",
    "\n",
    "A variable name must start with a letter or the underscore character.\n",
    "\n",
    "A variable name cannot start with a number.\n",
    "\n",
    "A variable name can only contain alpha-numeric characters and underscores (A-z, 0-9, and _ ).\n",
    "\n",
    "Variable names are case-sensitive (age, Age and AGE are three different variables)."
   ]
  },
  {
   "cell_type": "markdown",
   "id": "81bce71e",
   "metadata": {},
   "source": [
    "Q.3. What are the standards and conventions followed for the nomenclature of variables in\n",
    "python to improve code readability and maintainability?"
   ]
  },
  {
   "cell_type": "markdown",
   "id": "e0ee4b54",
   "metadata": {},
   "source": [
    "Some of the naming conventions are given below:\n",
    "\n",
    "Meaningful and understandable variables name helps anyone to understand the reason of using it.\n",
    "\n",
    "Local variables should be named using camel case lettering starting with small letter (e.g. localData) whereas Global variables names should start with a capital letter (e.g. GlobalData). Constant names should be formed using capital letters only (e.g. CONSDATA).\n",
    "\n",
    "It is better to avoid the use of digits in variable names.\n",
    "\n",
    "The names of the function should be written in camel case starting with small letters.\n",
    "\n",
    "The name of the function must describe the reason of using the function clearly and briefly."
   ]
  },
  {
   "cell_type": "markdown",
   "id": "f85b0bd8",
   "metadata": {},
   "source": [
    "Q.4. What will happen if a keyword is used as a variable name?"
   ]
  },
  {
   "cell_type": "markdown",
   "id": "46a65153",
   "metadata": {},
   "source": [
    "Keywords are the words in programming language which have a special meaning decided the lanuage. So we cannot use them as a variable as we cannot assign any value to them.\n",
    "\n",
    "In python keywords are case sensitive so we can use true as a variable but not TRUE.\n",
    "\n",
    "We'll get a SyntaxError if we try to do that."
   ]
  },
  {
   "cell_type": "markdown",
   "id": "97c57c25",
   "metadata": {},
   "source": [
    "Q.5. For what purpose def keyword is used?"
   ]
  },
  {
   "cell_type": "markdown",
   "id": "f79be5f4",
   "metadata": {},
   "source": [
    "Python def keyword is used to define a function, it is placed before a function name that is provided by the user to create a user-defined function."
   ]
  },
  {
   "cell_type": "markdown",
   "id": "23060fc5",
   "metadata": {},
   "source": [
    "Q.6. What is the operation of this special character ‘\\’?"
   ]
  },
  {
   "cell_type": "markdown",
   "id": "e9da3d4a",
   "metadata": {},
   "source": [
    "In Python strings, the backslash is a special character, also called the \"escape\" character. \n",
    "It is used in representing certain whitespace characters: \"\\t\" is a tab, \"\\n\" is a newline, and \"\\r\" is a carriage return. Conversely, prefixing a special character with \\ turns it into an ordinary character.\n",
    "This is called \"escaping\". For example, \\' is the single quote character. 'It\\'s raining' therefore is a valid string and equivalent to \"It's raining\". Likewise, '\"' can be escaped: \\hello\\\"\" is a string begins and ends with the literal double quote character. Finally, \\ can be used to escape itself: \"\\\\\" is the literal backslash character."
   ]
  },
  {
   "cell_type": "markdown",
   "id": "64c4ddb3",
   "metadata": {},
   "source": [
    "Q.7. Give an example of the following conditions:"
   ]
  },
  {
   "cell_type": "code",
   "execution_count": 3,
   "id": "cb4c4592",
   "metadata": {},
   "outputs": [
    {
     "name": "stdout",
     "output_type": "stream",
     "text": [
      "[1, 2, 3]\n"
     ]
    }
   ],
   "source": [
    "# homogenous list\n",
    "a=[1,2,3]\n",
    "print(a)"
   ]
  },
  {
   "cell_type": "code",
   "execution_count": 5,
   "id": "aae38766",
   "metadata": {},
   "outputs": [
    {
     "name": "stdout",
     "output_type": "stream",
     "text": [
      "{0.5, 1, 'a'}\n"
     ]
    }
   ],
   "source": [
    "# heterogenous set\n",
    "a={1,0.5, 'a'}\n",
    "print(a)"
   ]
  },
  {
   "cell_type": "code",
   "execution_count": 6,
   "id": "c59d2a09",
   "metadata": {},
   "outputs": [
    {
     "name": "stdout",
     "output_type": "stream",
     "text": [
      "(1, 2, 3)\n"
     ]
    }
   ],
   "source": [
    "# homogenous tuple\n",
    "a=(1,2,3)\n",
    "print(a)"
   ]
  },
  {
   "cell_type": "markdown",
   "id": "73140352",
   "metadata": {},
   "source": [
    "Q.8. Explain the mutable and immutable data types with proper explanation & examples."
   ]
  },
  {
   "cell_type": "markdown",
   "id": "79502051",
   "metadata": {},
   "source": [
    "The basic explanation is thus: A mutable object is one whose internal state is changeable. On the contrary, once an immutable object in Python has been created, we cannot change it in any way.\n",
    "Mutable Datatype: Anything is said to be mutable when anything can be modified or changed. The term \"mutable\" in Python refers to an object's capacity to modify its values. These are frequently the things that hold a data collection.\n",
    "Immutable Datatype: Immutable refers to a state in which no change can occur over time. A Python object is referred to as immutable if we cannot change its value over time. The value of these Python objects is fixed once they are made.\n",
    "\n",
    "Python mutable datatype: \n",
    "Lists\n",
    "Dictionaries\n",
    "Sets\n",
    "User-Defined Classes (It depends on the user to define the characteristics of the classes)\n",
    "\n",
    "Python immutable datatype: \n",
    "Numbers (Integer, Float, Complex, Decimal, Rational & Booleans)\n",
    "Tuples\n",
    "Strings\n",
    "Frozen Sets"
   ]
  },
  {
   "cell_type": "code",
   "execution_count": 8,
   "id": "ed0b9863",
   "metadata": {},
   "outputs": [
    {
     "name": "stdout",
     "output_type": "stream",
     "text": [
      "original list: \n",
      "[1, 2, 3]\n",
      "new list: \n",
      "[1, 2, 3, 4]\n"
     ]
    }
   ],
   "source": [
    "# eg. of mutable datatype: \n",
    "a=[1,2,3]\n",
    "print('original list: ')\n",
    "print(a)\n",
    "a.append(4)   # adding one more element to original list\n",
    "print('new list: ')\n",
    "print(a)"
   ]
  },
  {
   "cell_type": "code",
   "execution_count": 9,
   "id": "57b10161",
   "metadata": {},
   "outputs": [
    {
     "ename": "TypeError",
     "evalue": "'tuple' object does not support item assignment",
     "output_type": "error",
     "traceback": [
      "\u001b[1;31m---------------------------------------------------------------------------\u001b[0m",
      "\u001b[1;31mTypeError\u001b[0m                                 Traceback (most recent call last)",
      "Cell \u001b[1;32mIn[9], line 3\u001b[0m\n\u001b[0;32m      1\u001b[0m \u001b[38;5;66;03m#eg. of immutable datatype: \u001b[39;00m\n\u001b[0;32m      2\u001b[0m a\u001b[38;5;241m=\u001b[39m(\u001b[38;5;241m1\u001b[39m,\u001b[38;5;241m2\u001b[39m,\u001b[38;5;241m3\u001b[39m)\n\u001b[1;32m----> 3\u001b[0m a[\u001b[38;5;241m0\u001b[39m]\u001b[38;5;241m=\u001b[39m\u001b[38;5;124m'\u001b[39m\u001b[38;5;124ms\u001b[39m\u001b[38;5;124m'\u001b[39m\n\u001b[0;32m      4\u001b[0m \u001b[38;5;28mprint\u001b[39m(a)\n",
      "\u001b[1;31mTypeError\u001b[0m: 'tuple' object does not support item assignment"
     ]
    }
   ],
   "source": [
    "#eg. of immutable datatype: \n",
    "a=(1,2,3)\n",
    "a[0]='s'\n",
    "print(a)"
   ]
  },
  {
   "cell_type": "markdown",
   "id": "aeb80bae",
   "metadata": {},
   "source": [
    "Q.9. Write a code to create the given structure using only for loop."
   ]
  },
  {
   "cell_type": "code",
   "execution_count": 28,
   "id": "a767e717",
   "metadata": {},
   "outputs": [
    {
     "name": "stdout",
     "output_type": "stream",
     "text": [
      "        * \n",
      "      * * * \n",
      "    * * * * * \n",
      "  * * * * * * * \n",
      "* * * * * * * * * \n"
     ]
    }
   ],
   "source": [
    "rows = 5\n",
    "\n",
    "k = 0\n",
    "\n",
    "for i in range(1, rows+1):\n",
    "    for space in range(1, (rows-i)+1):\n",
    "        print(end=\"  \")\n",
    "   \n",
    "    while k!=(2*i-1):\n",
    "        print(\"* \", end=\"\")\n",
    "        k += 1\n",
    "   \n",
    "    k = 0\n",
    "    print()"
   ]
  },
  {
   "cell_type": "markdown",
   "id": "aa18b762",
   "metadata": {},
   "source": [
    "Q.10. Write a code to create the given structure using while loop."
   ]
  },
  {
   "cell_type": "code",
   "execution_count": 29,
   "id": "e43d952b",
   "metadata": {},
   "outputs": [
    {
     "name": "stdout",
     "output_type": "stream",
     "text": [
      " | | | | | | |\n",
      "   | | | | |\n",
      "     | | |\n",
      "       |\n"
     ]
    }
   ],
   "source": [
    "rows = 5\n",
    "\n",
    "for i in range(rows, 1, -1):\n",
    "    for space in range(0, rows-i):\n",
    "        print(\"  \", end=\"\")\n",
    "    for j in range(i, 2*i-1):\n",
    "        print(\" |\", end=\"\")\n",
    "    for j in range(1, i-1):\n",
    "        print(\" |\", end=\"\")\n",
    "    print()"
   ]
  },
  {
   "cell_type": "code",
   "execution_count": null,
   "id": "9afd712b",
   "metadata": {},
   "outputs": [],
   "source": []
  }
 ],
 "metadata": {
  "kernelspec": {
   "display_name": "Python 3 (ipykernel)",
   "language": "python",
   "name": "python3"
  },
  "language_info": {
   "codemirror_mode": {
    "name": "ipython",
    "version": 3
   },
   "file_extension": ".py",
   "mimetype": "text/x-python",
   "name": "python",
   "nbconvert_exporter": "python",
   "pygments_lexer": "ipython3",
   "version": "3.10.9"
  }
 },
 "nbformat": 4,
 "nbformat_minor": 5
}
