{
 "cells": [
  {
   "cell_type": "markdown",
   "id": "887ebc7d",
   "metadata": {},
   "source": [
    "Q.1. Create two int type variables, apply addition, subtraction, division and multiplications\n",
    "and store the results in variables. Then print the data in the following format by calling the\n",
    "variables:"
   ]
  },
  {
   "cell_type": "code",
   "execution_count": 2,
   "id": "8665b038",
   "metadata": {},
   "outputs": [
    {
     "name": "stdout",
     "output_type": "stream",
     "text": [
      "First variable is  4  and second variable is  2\n",
      "Addition:  4 + 2 = 6\n",
      "Subtraction:  4 - 2 = 2\n",
      "Multiplication:  4 * 2 = 8\n",
      "Division:  4 / 2 = 2.0\n"
     ]
    }
   ],
   "source": [
    "a=4\n",
    "b=2\n",
    "c=a+b\n",
    "d=a-b\n",
    "e=a*b\n",
    "f=a/b\n",
    "print('First variable is ',a,' and second variable is ',b)\n",
    "print('Addition: ',a,'+', b, '=', c)\n",
    "print('Subtraction: ',a ,'-', b, '=', d)\n",
    "print('Multiplication: ',a ,'*', b, '=', e)\n",
    "print('Division: ',a ,'/', b, '=', f)"
   ]
  },
  {
   "cell_type": "markdown",
   "id": "90a322a7",
   "metadata": {},
   "source": [
    "Q.2. What is the difference between the following operators:"
   ]
  },
  {
   "cell_type": "markdown",
   "id": "a32f82cd",
   "metadata": {},
   "source": [
    "/ : It is normal division operator. Normal division operator gives exact result value when we divide something.\n",
    "\n",
    "// : It is floor division operator. Floor division operator gives the floor value of exact result value when we divide something.\n",
    "\n",
    "For example - 5/2 will result 2.5 so here 2.5 is the exact result value and floor value of 2.5 would be 2 so 5//2 will result 2.\n",
    "\n",
    "** : It is exponention operator. \n",
    "\n",
    "^ : It is an XOR operator. The ^ operator compares each bit and set it to 1 if only one is 1, otherwise (if both are 1 or both are 0) it is set to 0."
   ]
  },
  {
   "cell_type": "markdown",
   "id": "389cc05f",
   "metadata": {},
   "source": [
    "Q.3. List the logical operators."
   ]
  },
  {
   "cell_type": "markdown",
   "id": "4ef991ea",
   "metadata": {},
   "source": [
    "and : Returns True if both statements are true\n",
    "\n",
    "or : Returns True if one of the statements is true\n",
    "\n",
    "not : Reverse the result, returns False if the result is true"
   ]
  },
  {
   "cell_type": "markdown",
   "id": "e8599800",
   "metadata": {},
   "source": [
    "Q.4. Explain right shift operator and left shift operator with examples."
   ]
  },
  {
   "cell_type": "markdown",
   "id": "a2fcc55c",
   "metadata": {},
   "source": [
    "\" >> \": (Bitwise right shift operator) The left operand’s value is moved toward right by the number of bits \n",
    "specified by the right operand.\n",
    "\n",
    "Example 1:\n",
    "\n",
    "a = 10 = 0000 1010 (Binary)\n",
    "\n",
    "a >> 1 = 0000 0101 = 5\n",
    "\n",
    "\" << \": (Bitwise left shift operator) The left operand’s value is moved toward left by the number of bits \n",
    "specified by the right operand.\n",
    "\n",
    "Example 1:\n",
    "\n",
    "a = 5 = 0000 0101 (Binary)\n",
    "\n",
    "a << 1 = 0000 1010 = 10\n",
    "\n",
    "a << 2 = 0001 0100 = 20 \n"
   ]
  },
  {
   "cell_type": "markdown",
   "id": "e8a3fe52",
   "metadata": {},
   "source": [
    "Q.5. Create a list containing int type data of length 15. Then write a code to check if 10 is\n",
    "present in the list or not."
   ]
  },
  {
   "cell_type": "code",
   "execution_count": 6,
   "id": "6af95e5e",
   "metadata": {},
   "outputs": [
    {
     "name": "stdout",
     "output_type": "stream",
     "text": [
      "10 is the element of the list\n"
     ]
    }
   ],
   "source": [
    "a=[1,2,3,4,5,6,7,8,9,10,11,12,13,14,15]\n",
    "if a.index(10):\n",
    "    print('10 is the element of the list')\n",
    "else: \n",
    "    print('10 is not an element of the list')"
   ]
  },
  {
   "cell_type": "code",
   "execution_count": null,
   "id": "36d09313",
   "metadata": {},
   "outputs": [],
   "source": []
  }
 ],
 "metadata": {
  "kernelspec": {
   "display_name": "Python 3 (ipykernel)",
   "language": "python",
   "name": "python3"
  },
  "language_info": {
   "codemirror_mode": {
    "name": "ipython",
    "version": 3
   },
   "file_extension": ".py",
   "mimetype": "text/x-python",
   "name": "python",
   "nbconvert_exporter": "python",
   "pygments_lexer": "ipython3",
   "version": "3.10.9"
  }
 },
 "nbformat": 4,
 "nbformat_minor": 5
}
