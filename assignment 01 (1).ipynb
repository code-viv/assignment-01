{
 "cells": [
  {
   "cell_type": "markdown",
   "id": "18d63384",
   "metadata": {},
   "source": [
    "1. In the below elements which of them are values or an expression? eg:- values can be\n",
    "integer or string and expressions will be mathematical operators."
   ]
  },
  {
   "cell_type": "markdown",
   "id": "a75a54a6",
   "metadata": {},
   "source": [
    "*        : expression (multiplication operator)\n",
    "'hello'  : value (string)\n",
    "-87.8    : value (float)\n",
    "-        : expression (subtraction operator)\n",
    "/        : expression (used for multiline, i.e to express values in more than one line)\n",
    "+        : expression (addition operator) \n",
    "6        : value (int)"
   ]
  },
  {
   "cell_type": "markdown",
   "id": "9476d8b3",
   "metadata": {},
   "source": [
    "2. What is the difference between string and variable?"
   ]
  },
  {
   "cell_type": "markdown",
   "id": "4852a23b",
   "metadata": {},
   "source": [
    "String: It is a data-type where anything assigned to a variable using single/double quotes will be referred as a string.\n",
    "\n",
    "Variable: It is an identifier wherein some value is stored or assigned. Variable can start only with an alphabet or an underscore. Variable cannot start with a number or any special character."
   ]
  },
  {
   "cell_type": "code",
   "execution_count": 5,
   "id": "adb88fc3",
   "metadata": {
    "scrolled": true
   },
   "outputs": [
    {
     "data": {
      "text/plain": [
       "str"
      ]
     },
     "execution_count": 5,
     "metadata": {},
     "output_type": "execute_result"
    }
   ],
   "source": [
    "#example\n",
    "a='ineuron'\n",
    "type(a)\n",
    "# here 'ineuron' is a string where (a) is a variable"
   ]
  },
  {
   "cell_type": "markdown",
   "id": "6315dd7f",
   "metadata": {},
   "source": [
    "3. Describe three different data types."
   ]
  },
  {
   "cell_type": "markdown",
   "id": "7d309b26",
   "metadata": {},
   "source": [
    "i) String : Values assigned to a variable using single/double quotes will be referred as a string.\n"
   ]
  },
  {
   "cell_type": "code",
   "execution_count": 6,
   "id": "960d90a7",
   "metadata": {},
   "outputs": [
    {
     "data": {
      "text/plain": [
       "str"
      ]
     },
     "execution_count": 6,
     "metadata": {},
     "output_type": "execute_result"
    }
   ],
   "source": [
    "a='ineuron'\n",
    "type(a)"
   ]
  },
  {
   "cell_type": "markdown",
   "id": "03f886f3",
   "metadata": {},
   "source": [
    "ii) Float : Floats are values with decimals."
   ]
  },
  {
   "cell_type": "code",
   "execution_count": 7,
   "id": "20063378",
   "metadata": {},
   "outputs": [
    {
     "data": {
      "text/plain": [
       "float"
      ]
     },
     "execution_count": 7,
     "metadata": {},
     "output_type": "execute_result"
    }
   ],
   "source": [
    "a=1.618\n",
    "type(a)"
   ]
  },
  {
   "cell_type": "markdown",
   "id": "e622a08a",
   "metadata": {},
   "source": [
    "iii) Integer : Values which are positive or negative whole numbers without decimal are referred as integer."
   ]
  },
  {
   "cell_type": "code",
   "execution_count": 8,
   "id": "11eae690",
   "metadata": {},
   "outputs": [
    {
     "data": {
      "text/plain": [
       "int"
      ]
     },
     "execution_count": 8,
     "metadata": {},
     "output_type": "execute_result"
    }
   ],
   "source": [
    "a=7\n",
    "type(a)\n"
   ]
  },
  {
   "cell_type": "markdown",
   "id": "0c5dbf03",
   "metadata": {},
   "source": [
    "4. What is an expression made up of? What do all expressions do?"
   ]
  },
  {
   "cell_type": "markdown",
   "id": "4c369215",
   "metadata": {},
   "source": [
    "An expression is a cobination of values, variables, operators, and fuction calls that produces or returns some result value."
   ]
  },
  {
   "cell_type": "code",
   "execution_count": 9,
   "id": "5e9f4f7e",
   "metadata": {},
   "outputs": [
    {
     "name": "stdout",
     "output_type": "stream",
     "text": [
      "5\n"
     ]
    }
   ],
   "source": [
    "a=2\n",
    "b=3\n",
    "c=a+b\n",
    "print(c)"
   ]
  },
  {
   "cell_type": "markdown",
   "id": "15f97040",
   "metadata": {},
   "source": [
    "Here a=2 & b=3 both are expressions with = as an operator and c=a+b is also an expression with + as an operator."
   ]
  },
  {
   "cell_type": "code",
   "execution_count": 10,
   "id": "09e67027",
   "metadata": {},
   "outputs": [
    {
     "data": {
      "text/plain": [
       "int"
      ]
     },
     "execution_count": 10,
     "metadata": {},
     "output_type": "execute_result"
    }
   ],
   "source": [
    "type(6)"
   ]
  },
  {
   "cell_type": "markdown",
   "id": "6a8e154f",
   "metadata": {},
   "source": [
    "Here function is used in an expression."
   ]
  },
  {
   "cell_type": "markdown",
   "id": "f71b3e3a",
   "metadata": {},
   "source": [
    "5. This assignment statements, like spam = 10. What is the difference between an\n",
    "expression and a statement?"
   ]
  },
  {
   "cell_type": "markdown",
   "id": "3265d48e",
   "metadata": {},
   "source": [
    "An expression always produces or returns some result; where statements do not produce any results when evaluated,"
   ]
  },
  {
   "cell_type": "markdown",
   "id": "144b65b8",
   "metadata": {},
   "source": [
    "6. After running the following code, what does the variable bacon contain?\n",
    "bacon = 22\n",
    "bacon + 1"
   ]
  },
  {
   "cell_type": "code",
   "execution_count": 12,
   "id": "fab87ddc",
   "metadata": {},
   "outputs": [
    {
     "data": {
      "text/plain": [
       "23"
      ]
     },
     "execution_count": 12,
     "metadata": {},
     "output_type": "execute_result"
    }
   ],
   "source": [
    "bacon=22\n",
    "bacon+1"
   ]
  },
  {
   "cell_type": "markdown",
   "id": "ae01b2ea",
   "metadata": {},
   "source": [
    "Variable bacon is set to 22."
   ]
  },
  {
   "cell_type": "markdown",
   "id": "2ac4c415",
   "metadata": {},
   "source": [
    "7. What should the values of the following two terms be?\n",
    "&#39;spam&#39; + &#39;spamspam&#39;\n",
    "&#39;spam&#39; * 3"
   ]
  },
  {
   "cell_type": "code",
   "execution_count": 14,
   "id": "bcb6cd59",
   "metadata": {},
   "outputs": [
    {
     "data": {
      "text/plain": [
       "'spamspamspam'"
      ]
     },
     "execution_count": 14,
     "metadata": {},
     "output_type": "execute_result"
    }
   ],
   "source": [
    "'spam'+'spamspam'"
   ]
  },
  {
   "cell_type": "code",
   "execution_count": 15,
   "id": "5f2accb5",
   "metadata": {},
   "outputs": [
    {
     "data": {
      "text/plain": [
       "'spamspamspam'"
      ]
     },
     "execution_count": 15,
     "metadata": {},
     "output_type": "execute_result"
    }
   ],
   "source": [
    "'spam'*3\n"
   ]
  },
  {
   "cell_type": "markdown",
   "id": "994b2923",
   "metadata": {},
   "source": [
    "8. Why is eggs a valid variable name while 100 is invalid?"
   ]
  },
  {
   "cell_type": "markdown",
   "id": "b59a8a19",
   "metadata": {},
   "source": [
    "Variable can start only with an alphabet or an undescore; but variable can't start with a number or a special character. Hence eggs is valid variable as it starts with alphabet while 100 is invalid as it starts with a number."
   ]
  },
  {
   "cell_type": "markdown",
   "id": "4e42d845",
   "metadata": {},
   "source": [
    "9. What three functions can be used to get the integer, floating-point number, or string\n",
    "version of a value?"
   ]
  },
  {
   "cell_type": "markdown",
   "id": "a6382a5c",
   "metadata": {},
   "source": [
    "int() is function to get integer; float() is the function to get floating-point number; str() is function to get string version."
   ]
  },
  {
   "cell_type": "markdown",
   "id": "b746a09a",
   "metadata": {},
   "source": [
    "10. Why does this expression cause an error? How can you fix it?\n",
    "&#39;I have eaten &#39; + 99 + &#39; burritos.&#39;"
   ]
  },
  {
   "cell_type": "markdown",
   "id": "1b2e06f9",
   "metadata": {},
   "source": [
    "Only strings can be combined to other strings with + operator. As 99 is an integer it causes error.\n",
    "The correct way could be:"
   ]
  },
  {
   "cell_type": "code",
   "execution_count": 19,
   "id": "9d6dcd19",
   "metadata": {},
   "outputs": [
    {
     "data": {
      "text/plain": [
       "'I have eaten 99 burritos.'"
      ]
     },
     "execution_count": 19,
     "metadata": {},
     "output_type": "execute_result"
    }
   ],
   "source": [
    "'I have eaten '+'99'+' burritos.'"
   ]
  }
 ],
 "metadata": {
  "kernelspec": {
   "display_name": "Python 3 (ipykernel)",
   "language": "python",
   "name": "python3"
  },
  "language_info": {
   "codemirror_mode": {
    "name": "ipython",
    "version": 3
   },
   "file_extension": ".py",
   "mimetype": "text/x-python",
   "name": "python",
   "nbconvert_exporter": "python",
   "pygments_lexer": "ipython3",
   "version": "3.10.9"
  }
 },
 "nbformat": 4,
 "nbformat_minor": 5
}
