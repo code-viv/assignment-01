{
 "cells": [
  {
   "cell_type": "markdown",
   "id": "0939a090",
   "metadata": {},
   "source": [
    "1. What exactly is []?"
   ]
  },
  {
   "cell_type": "markdown",
   "id": "d0ded145",
   "metadata": {},
   "source": [
    "[] is an empty list."
   ]
  },
  {
   "cell_type": "markdown",
   "id": "801a2e6b",
   "metadata": {},
   "source": [
    "2. In a list of values stored in a variable called spam, how would you assign the value &#39;hello&#39; as the\n",
    "third value? (Assume [2, 4, 6, 8, 10] are in spam.)"
   ]
  },
  {
   "cell_type": "markdown",
   "id": "3555c20a",
   "metadata": {},
   "source": [
    "spam[2] = 'hello'"
   ]
  },
  {
   "cell_type": "markdown",
   "id": "3eea94f4",
   "metadata": {},
   "source": [
    " Let's pretend the spam includes the list ['a','b','c','d'] for the next three queries."
   ]
  },
  {
   "cell_type": "markdown",
   "id": "d404b788",
   "metadata": {},
   "source": [
    "3. What is the value of spam[int(int('3' * 2) / 11)]?"
   ]
  },
  {
   "cell_type": "markdown",
   "id": "a830cd78",
   "metadata": {},
   "source": [
    "It is equivalent to spam[3]=d"
   ]
  },
  {
   "cell_type": "markdown",
   "id": "3fb1d457",
   "metadata": {},
   "source": [
    "4. What is the value of spam[-1]?"
   ]
  },
  {
   "cell_type": "markdown",
   "id": "83366404",
   "metadata": {},
   "source": [
    "d"
   ]
  },
  {
   "cell_type": "markdown",
   "id": "4bd07e27",
   "metadata": {},
   "source": [
    "5. What is the value of spam[:2]?"
   ]
  },
  {
   "cell_type": "markdown",
   "id": "d940d7cc",
   "metadata": {},
   "source": [
    "['a','b']"
   ]
  },
  {
   "cell_type": "markdown",
   "id": "67ab7949",
   "metadata": {},
   "source": [
    "Let's pretend bacon has the list [3.14, 'cat',11,'cat', True] for the next three questions."
   ]
  },
  {
   "cell_type": "markdown",
   "id": "e6c7075e",
   "metadata": {},
   "source": [
    "6. What is the value of bacon.index('cat')?"
   ]
  },
  {
   "cell_type": "markdown",
   "id": "c4d4df1e",
   "metadata": {},
   "source": [
    "1"
   ]
  },
  {
   "cell_type": "markdown",
   "id": "c398afce",
   "metadata": {},
   "source": [
    "7. How does bacon.append(99) change the look of the list value in bacon?"
   ]
  },
  {
   "cell_type": "markdown",
   "id": "1eb1d4e9",
   "metadata": {},
   "source": [
    "bacon= [3.14,'cat,11,'cat',True,99]"
   ]
  },
  {
   "cell_type": "markdown",
   "id": "a13c573d",
   "metadata": {},
   "source": [
    "8. How does bacon.remove(&#39;cat&#39;) change the look of the list in bacon?"
   ]
  },
  {
   "cell_type": "markdown",
   "id": "ebcfa5a4",
   "metadata": {},
   "source": [
    "bacon= [3.14,11,'cat','True]"
   ]
  },
  {
   "cell_type": "markdown",
   "id": "d0200440",
   "metadata": {},
   "source": [
    "9. What are the list concatenation and list replication operators?"
   ]
  },
  {
   "cell_type": "markdown",
   "id": "03a1b981",
   "metadata": {},
   "source": [
    "list concatenation error: + ,  list replication error: *"
   ]
  },
  {
   "cell_type": "markdown",
   "id": "309c923c",
   "metadata": {},
   "source": [
    "10. What is difference between the list methods append() and insert()?"
   ]
  },
  {
   "cell_type": "markdown",
   "id": "9993aaa7",
   "metadata": {},
   "source": [
    " append() adds values at the end of list while insert() adds values anywhere inside list as specified indices."
   ]
  },
  {
   "cell_type": "markdown",
   "id": "363f46ad",
   "metadata": {},
   "source": [
    "11. What are the two methods for removing items from a list?"
   ]
  },
  {
   "cell_type": "markdown",
   "id": "3675df65",
   "metadata": {},
   "source": [
    "remove() and del \n",
    "\n"
   ]
  },
  {
   "cell_type": "markdown",
   "id": "15b11946",
   "metadata": {},
   "source": [
    "12. Describe how list values and string values are identical."
   ]
  },
  {
   "cell_type": "markdown",
   "id": "c2d09204",
   "metadata": {},
   "source": [
    "Both lists and strings can be passed to len(), have indexes and slices, be used in for loops, be concatenated or replicated, and be used with the in and not in operators"
   ]
  },
  {
   "cell_type": "markdown",
   "id": "a70f2af8",
   "metadata": {},
   "source": [
    "13. What&#39;s the difference between tuples and lists?"
   ]
  },
  {
   "cell_type": "markdown",
   "id": "a5ef4c31",
   "metadata": {},
   "source": [
    "Lists are mutablr while tuples are immutable.\n"
   ]
  },
  {
   "cell_type": "markdown",
   "id": "287c5aea",
   "metadata": {},
   "source": [
    "14. How do you type a tuple value that only contains the integer 42?"
   ]
  },
  {
   "cell_type": "markdown",
   "id": "37fc4f36",
   "metadata": {},
   "source": [
    "(42,)"
   ]
  },
  {
   "cell_type": "markdown",
   "id": "16f571de",
   "metadata": {},
   "source": [
    "15. How do you get a list value&#39;s tuple form? How do you get a tuple value&#39;s list form?"
   ]
  },
  {
   "cell_type": "markdown",
   "id": "a0e6fd36",
   "metadata": {},
   "source": [
    "By using list() and tuple() functions."
   ]
  },
  {
   "cell_type": "markdown",
   "id": "960a0dc0",
   "metadata": {},
   "source": [
    "16. Variables that &quot;contain&quot; list values are not necessarily lists themselves. Instead, what do they\n",
    "contain?"
   ]
  },
  {
   "cell_type": "markdown",
   "id": "ccdd6bba",
   "metadata": {},
   "source": [
    "They contain references to list values."
   ]
  },
  {
   "cell_type": "markdown",
   "id": "924cc795",
   "metadata": {},
   "source": [
    "17. How do you distinguish between copy.copy() and copy.deepcopy()?"
   ]
  },
  {
   "cell_type": "markdown",
   "id": "6c20e547",
   "metadata": {},
   "source": [
    " The copy.copy() function will do a shallow copy of a list, while the copy.deepcopy() function will do a deep copy of a list. That is, only copy .deepcopy() will duplicate any lists inside the list."
   ]
  },
  {
   "cell_type": "markdown",
   "id": "89aa41f6",
   "metadata": {},
   "source": []
  }
 ],
 "metadata": {
  "kernelspec": {
   "display_name": "Python 3 (ipykernel)",
   "language": "python",
   "name": "python3"
  },
  "language_info": {
   "codemirror_mode": {
    "name": "ipython",
    "version": 3
   },
   "file_extension": ".py",
   "mimetype": "text/x-python",
   "name": "python",
   "nbconvert_exporter": "python",
   "pygments_lexer": "ipython3",
   "version": "3.10.9"
  }
 },
 "nbformat": 4,
 "nbformat_minor": 5
}
