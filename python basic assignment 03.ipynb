{
 "cells": [
  {
   "cell_type": "markdown",
   "id": "72d7c407",
   "metadata": {},
   "source": [
    "1. Why are functions advantageous to have in your programs?"
   ]
  },
  {
   "cell_type": "markdown",
   "id": "68e729ff",
   "metadata": {},
   "source": [
    "1) To avoid lengthy codes and confusion.\n",
    "2) It breaks complex programs into simpler version.\n",
    "3) Ease of understanding gets better."
   ]
  },
  {
   "cell_type": "markdown",
   "id": "e648d6cc",
   "metadata": {},
   "source": [
    "2. When does the code in a function run: when it&#39;s specified or when it&#39;s called?"
   ]
  },
  {
   "cell_type": "markdown",
   "id": "db6da063",
   "metadata": {},
   "source": [
    "The function runs when it is called."
   ]
  },
  {
   "cell_type": "markdown",
   "id": "4738c519",
   "metadata": {},
   "source": [
    "3. What statement creates a function?"
   ]
  },
  {
   "cell_type": "markdown",
   "id": "71b5d14c",
   "metadata": {},
   "source": [
    "def func_name():"
   ]
  },
  {
   "cell_type": "markdown",
   "id": "b7062c75",
   "metadata": {},
   "source": [
    "4. What is the difference between a function and a function call?"
   ]
  },
  {
   "cell_type": "markdown",
   "id": "b264e050",
   "metadata": {},
   "source": [
    "Function is used to get the required output, while function call uses the function to get the output."
   ]
  },
  {
   "cell_type": "markdown",
   "id": "4bb9618f",
   "metadata": {},
   "source": [
    "5. How many global scopes are there in a Python program? How many local scopes?"
   ]
  },
  {
   "cell_type": "markdown",
   "id": "954e62f2",
   "metadata": {},
   "source": [
    "There are one global scope and four local scopes in python."
   ]
  },
  {
   "cell_type": "markdown",
   "id": "0559a344",
   "metadata": {},
   "source": [
    "6. What happens to variables in a local scope when the function call returns?"
   ]
  },
  {
   "cell_type": "markdown",
   "id": "d1690bb6",
   "metadata": {},
   "source": [
    "The local variables are destroyed when the function call returns and memory occupied by them are freed for any other variables."
   ]
  },
  {
   "cell_type": "markdown",
   "id": "51a29bf2",
   "metadata": {},
   "source": [
    "7. What is the concept of a return value? Is it possible to have a return value in an expression?"
   ]
  },
  {
   "cell_type": "markdown",
   "id": "881faaf4",
   "metadata": {},
   "source": [
    "A return statement causes execution to leave the current subroutine and resume at the point in the code immediately after the instruction which called the subroutine, known as its return address. Yes, It is possible to have a return value in an expression."
   ]
  },
  {
   "cell_type": "markdown",
   "id": "76fbbcfc",
   "metadata": {},
   "source": [
    "8. If a function does not have a return statement, what is the return value of a call to that function?"
   ]
  },
  {
   "cell_type": "markdown",
   "id": "d2d23734",
   "metadata": {},
   "source": [
    "None."
   ]
  },
  {
   "cell_type": "markdown",
   "id": "20f3b24b",
   "metadata": {},
   "source": [
    "9. How do you make a function variable refer to the global variable?"
   ]
  },
  {
   "cell_type": "markdown",
   "id": "66f51a71",
   "metadata": {},
   "source": [
    "   Use of the 'global' keyword before variable defined inside the function."
   ]
  },
  {
   "cell_type": "markdown",
   "id": "0b5575a7",
   "metadata": {},
   "source": [
    "10. What is the data type of None?"
   ]
  },
  {
   "cell_type": "markdown",
   "id": "041da246",
   "metadata": {},
   "source": [
    "None is a data types of its own."
   ]
  },
  {
   "cell_type": "markdown",
   "id": "cfa012a0",
   "metadata": {},
   "source": [
    "11. What does the sentence import areallyourpetsnamederic do?"
   ]
  },
  {
   "cell_type": "markdown",
   "id": "9d181bf4",
   "metadata": {},
   "source": [
    "This sentence imports the module \"areallyourpetsnamederic\"."
   ]
  },
  {
   "cell_type": "markdown",
   "id": "69d8e3ab",
   "metadata": {},
   "source": [
    "12. If you had a bacon() feature in a spam module, what would you call it after importing spam?"
   ]
  },
  {
   "cell_type": "markdown",
   "id": "96163b37",
   "metadata": {},
   "source": [
    "spam.bacon()"
   ]
  },
  {
   "cell_type": "markdown",
   "id": "86cc00ff",
   "metadata": {},
   "source": [
    "13. What can you do to save a programme from crashing if it encounters an error?"
   ]
  },
  {
   "cell_type": "markdown",
   "id": "cfe0aee6",
   "metadata": {},
   "source": [
    "Error handling can be used to notify the user."
   ]
  },
  {
   "cell_type": "markdown",
   "id": "6e445be8",
   "metadata": {},
   "source": [
    "14. What is the purpose of the try clause? What is the purpose of the except clause?"
   ]
  },
  {
   "cell_type": "markdown",
   "id": "20534833",
   "metadata": {},
   "source": [
    "The try block is used to check some code for errors i.e the code inside the try block will execute when there is no error in the program. Whereas the code inside the except block will execute whenever the program encounters some error in the preceding try block."
   ]
  }
 ],
 "metadata": {
  "kernelspec": {
   "display_name": "Python 3 (ipykernel)",
   "language": "python",
   "name": "python3"
  },
  "language_info": {
   "codemirror_mode": {
    "name": "ipython",
    "version": 3
   },
   "file_extension": ".py",
   "mimetype": "text/x-python",
   "name": "python",
   "nbconvert_exporter": "python",
   "pygments_lexer": "ipython3",
   "version": "3.10.9"
  }
 },
 "nbformat": 4,
 "nbformat_minor": 5
}
