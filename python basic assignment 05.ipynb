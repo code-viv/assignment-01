{
 "cells": [
  {
   "cell_type": "markdown",
   "id": "a21b6b6f",
   "metadata": {},
   "source": [
    "1. What does an empty dictionary&#39;s code look like?"
   ]
  },
  {
   "cell_type": "markdown",
   "id": "9582e896",
   "metadata": {},
   "source": [
    "An empty pair of {} is an empty dictionary."
   ]
  },
  {
   "cell_type": "markdown",
   "id": "46727985",
   "metadata": {},
   "source": [
    "2. What is the value of a dictionary value with the key &#39;foo&#39; and the value 42?"
   ]
  },
  {
   "cell_type": "code",
   "execution_count": 1,
   "id": "1e77b725",
   "metadata": {},
   "outputs": [
    {
     "data": {
      "text/plain": [
       "{'foo': 42}"
      ]
     },
     "execution_count": 1,
     "metadata": {},
     "output_type": "execute_result"
    }
   ],
   "source": [
    "{'foo': 42}"
   ]
  },
  {
   "cell_type": "markdown",
   "id": "0704e6e4",
   "metadata": {},
   "source": [
    "3. What is the most significant distinction between a dictionary and a list?"
   ]
  },
  {
   "cell_type": "markdown",
   "id": "33193e43",
   "metadata": {},
   "source": [
    "In list,  items in lisare ordered while; in dictionary, items are unordered."
   ]
  },
  {
   "cell_type": "markdown",
   "id": "7b1b5f7f",
   "metadata": {},
   "source": [
    "4. What happens if you try to access spam[&#39;foo&#39;] if spam is {&#39;bar&#39;: 100}?"
   ]
  },
  {
   "cell_type": "code",
   "execution_count": 2,
   "id": "9745a9cf",
   "metadata": {},
   "outputs": [
    {
     "ename": "KeyError",
     "evalue": "'foo'",
     "output_type": "error",
     "traceback": [
      "\u001b[1;31m---------------------------------------------------------------------------\u001b[0m",
      "\u001b[1;31mKeyError\u001b[0m                                  Traceback (most recent call last)",
      "Cell \u001b[1;32mIn[2], line 2\u001b[0m\n\u001b[0;32m      1\u001b[0m spam \u001b[38;5;241m=\u001b[39m {\u001b[38;5;124m'\u001b[39m\u001b[38;5;124mbar\u001b[39m\u001b[38;5;124m'\u001b[39m:\u001b[38;5;241m100\u001b[39m}\n\u001b[1;32m----> 2\u001b[0m \u001b[43mspam\u001b[49m\u001b[43m[\u001b[49m\u001b[38;5;124;43m'\u001b[39;49m\u001b[38;5;124;43mfoo\u001b[39;49m\u001b[38;5;124;43m'\u001b[39;49m\u001b[43m]\u001b[49m\n",
      "\u001b[1;31mKeyError\u001b[0m: 'foo'"
     ]
    }
   ],
   "source": [
    "spam = {'bar':100}\n",
    "spam['foo']\n",
    "#This will give us key error"
   ]
  },
  {
   "cell_type": "markdown",
   "id": "cae02793",
   "metadata": {},
   "source": [
    "5. If a dictionary is stored in spam, what is the difference between the expressions &#39;cat&#39; in spam and\n",
    "&#39;cat&#39; in spam.keys()?"
   ]
  },
  {
   "cell_type": "code",
   "execution_count": 3,
   "id": "a8984cf8",
   "metadata": {},
   "outputs": [
    {
     "data": {
      "text/plain": [
       "True"
      ]
     },
     "execution_count": 3,
     "metadata": {},
     "output_type": "execute_result"
    }
   ],
   "source": [
    "spam ={'cat':100}\n",
    "'cat' in spam"
   ]
  },
  {
   "cell_type": "code",
   "execution_count": 4,
   "id": "4a622a78",
   "metadata": {},
   "outputs": [
    {
     "data": {
      "text/plain": [
       "True"
      ]
     },
     "execution_count": 4,
     "metadata": {},
     "output_type": "execute_result"
    }
   ],
   "source": [
    "'cat' in spam.keys()\n",
    "#There is no differnce, both check if 'cat' is key of the dictionary and if its a key, returns True.\n",
    "     "
   ]
  },
  {
   "cell_type": "markdown",
   "id": "585d63bf",
   "metadata": {},
   "source": [
    "6. If a dictionary is stored in spam, what is the difference between the expressions &#39;cat&#39; in spam and\n",
    "&#39;cat&#39; in spam.values()?"
   ]
  },
  {
   "cell_type": "code",
   "execution_count": 5,
   "id": "4c8e02ae",
   "metadata": {},
   "outputs": [
    {
     "data": {
      "text/plain": [
       "True"
      ]
     },
     "execution_count": 5,
     "metadata": {},
     "output_type": "execute_result"
    }
   ],
   "source": [
    "spam ={'cat':100}\n",
    "'cat' in spam\n",
    "     "
   ]
  },
  {
   "cell_type": "code",
   "execution_count": 6,
   "id": "1316b51f",
   "metadata": {},
   "outputs": [
    {
     "data": {
      "text/plain": [
       "False"
      ]
     },
     "execution_count": 6,
     "metadata": {},
     "output_type": "execute_result"
    }
   ],
   "source": [
    "spam ={'cat':100}\n",
    "'cat' in spam.values()\n",
    "\n",
    "#'cat' in spam checks whether there is a 'cat' key in the dictionary\n",
    "#'cat' in spam.values() checks whether there is a value 'cat' for one of the keys in spam."
   ]
  },
  {
   "cell_type": "markdown",
   "id": "a1a6ee78",
   "metadata": {},
   "source": [
    "7. What is a shortcut for the following code?"
   ]
  },
  {
   "cell_type": "code",
   "execution_count": 7,
   "id": "fc8b8db1",
   "metadata": {},
   "outputs": [
    {
     "data": {
      "text/plain": [
       "{'cat': 100, 'color': 'black'}"
      ]
     },
     "execution_count": 7,
     "metadata": {},
     "output_type": "execute_result"
    }
   ],
   "source": [
    "spam ={'cat':100}\n",
    "spam.setdefault('color','black')\n",
    "spam\n"
   ]
  },
  {
   "cell_type": "markdown",
   "id": "dcec2c99",
   "metadata": {},
   "source": [
    "8. How do you &quot;pretty print&quot; dictionary values using which module and function?"
   ]
  },
  {
   "cell_type": "code",
   "execution_count": 8,
   "id": "d4855e85",
   "metadata": {},
   "outputs": [],
   "source": [
    "import pprint\n",
    "dct = [ {'Name': 'abc', 'Age': '27', 'Country': 'India'},\n",
    "  {'Name': 'Viv', 'Age': '78', 'Country': 'Spain'},\n",
    "  {'Name': 'Kris', 'Age': '30', 'Country': 'UK'},\n",
    "  {'Name': 'Chloe', 'Age': '58', 'Country': 'Australia'}\n",
    "]"
   ]
  },
  {
   "cell_type": "code",
   "execution_count": 9,
   "id": "2238bac2",
   "metadata": {},
   "outputs": [
    {
     "name": "stdout",
     "output_type": "stream",
     "text": [
      "[{'Age': '27', 'Country': 'India', 'Name': 'abc'},\n",
      " {'Age': '78', 'Country': 'Spain', 'Name': 'Viv'},\n",
      " {'Age': '30', 'Country': 'UK', 'Name': 'Kris'},\n",
      " {'Age': '58', 'Country': 'Australia', 'Name': 'Chloe'}]\n"
     ]
    }
   ],
   "source": [
    "# printing with pprint()\n",
    "pprint.pprint(dct)"
   ]
  },
  {
   "cell_type": "code",
   "execution_count": 11,
   "id": "beb864b9",
   "metadata": {},
   "outputs": [
    {
     "name": "stdout",
     "output_type": "stream",
     "text": [
      "[{'Name': 'abc', 'Age': '27', 'Country': 'India'}, {'Name': 'Viv', 'Age': '78', 'Country': 'Spain'}, {'Name': 'Kris', 'Age': '30', 'Country': 'UK'}, {'Name': 'Chloe', 'Age': '58', 'Country': 'Australia'}]\n"
     ]
    }
   ],
   "source": [
    "#Printing with print()\n",
    "print(dct)"
   ]
  },
  {
   "cell_type": "code",
   "execution_count": null,
   "id": "ee0771c4",
   "metadata": {},
   "outputs": [],
   "source": []
  }
 ],
 "metadata": {
  "kernelspec": {
   "display_name": "Python 3 (ipykernel)",
   "language": "python",
   "name": "python3"
  },
  "language_info": {
   "codemirror_mode": {
    "name": "ipython",
    "version": 3
   },
   "file_extension": ".py",
   "mimetype": "text/x-python",
   "name": "python",
   "nbconvert_exporter": "python",
   "pygments_lexer": "ipython3",
   "version": "3.10.9"
  }
 },
 "nbformat": 4,
 "nbformat_minor": 5
}
